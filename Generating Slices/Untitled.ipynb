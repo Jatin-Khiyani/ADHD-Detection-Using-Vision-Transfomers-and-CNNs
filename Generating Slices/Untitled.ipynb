{
 "cells": [
  {
   "cell_type": "markdown",
   "id": "7163edbf-9968-484d-966c-0db65e308ae2",
   "metadata": {},
   "source": [
    "# Problem Statement\n",
    "\n",
    "Here we will be working on ADHD-200 dataset with Athena Preproccessing. In this file we will be converting .nii files into into 112x112 slices. \n",
    "\n",
    "We will be taking the middle 50 timepoints and for each time point we will be taking 50 axial slices giving us 2500 slices per subject "
   ]
  },
  {
   "cell_type": "markdown",
   "id": "5b653e88-838e-43bf-9b4f-e4767d82cbe0",
   "metadata": {},
   "source": [
    "# Importing Libraries"
   ]
  },
  {
   "cell_type": "code",
   "execution_count": 1,
   "id": "97245e5b-8afd-4d13-91f3-2aed516d00db",
   "metadata": {},
   "outputs": [],
   "source": [
    "import os \n",
    "import nibabel as nib\n",
    "import numpy as np \n",
    "import cv2"
   ]
  },
  {
   "cell_type": "markdown",
   "id": "735c842c-1e70-4f7e-872f-28978c3fbccc",
   "metadata": {},
   "source": [
    "Os is used to navigate and handle files in our local system\n",
    "\n",
    "nibabel is used for reading .nii files NIfTI which are used for fMRRI files\n",
    "\n",
    "numpy handles math operations and matrices \n",
    "\n",
    "opencv is used to resize and save images\n"
   ]
  },
  {
   "cell_type": "markdown",
   "id": "8df01c36-143c-47bd-a671-e9c02c974e6f",
   "metadata": {},
   "source": [
    "# Function to proccess one subject"
   ]
  },
  {
   "cell_type": "code",
   "execution_count": null,
   "id": "7f08ade0-eeb5-4737-924f-b3472ae224a8",
   "metadata": {},
   "outputs": [],
   "source": [
    "def process_fmri_to_slices(nifti_path,output_dir):\n",
    "    img = nib.load(nifti_path)\n",
    "    data = img.get_fdata\n",
    "    total_timepoints = data.shape[3]\n",
    "    mid_start = total_timepoints//2 - 25\n",
    "    mid_end = mid_start + 50\n",
    "    selected_timepoints = range(mid_start,mid_end)\n",
    "\n",
    "    z_slices = data.shape[2]\n",
    "    z_mid_start = z_slices//2 -25\n",
    "    z_mid_end = z_mid_start + 50\n",
    "    selected_slices = range(z_mid_start,z_mid_end)\n",
    "\n",
    "    os.makeddirs(output_dir,exist_ok=True)"
   ]
  }
 ],
 "metadata": {
  "kernelspec": {
   "display_name": "Python 3 (ipykernel)",
   "language": "python",
   "name": "python3"
  },
  "language_info": {
   "codemirror_mode": {
    "name": "ipython",
    "version": 3
   },
   "file_extension": ".py",
   "mimetype": "text/x-python",
   "name": "python",
   "nbconvert_exporter": "python",
   "pygments_lexer": "ipython3",
   "version": "3.10.4"
  }
 },
 "nbformat": 4,
 "nbformat_minor": 5
}
